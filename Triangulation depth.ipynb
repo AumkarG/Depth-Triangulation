{
 "cells": [
  {
   "cell_type": "markdown",
   "metadata": {},
   "source": [
    "# Inputs : camera height, camera pitch angle and camera field of view should be known"
   ]
  },
  {
   "cell_type": "markdown",
   "metadata": {},
   "source": [
    "# Output : measures the absolute depth of field and distances ;computing the depth of field and 3D coordinates of any given point in the image. In addition, this method can be used to compute the actual size of an object in the scene "
   ]
  },
  {
   "cell_type": "code",
   "execution_count": 7,
   "metadata": {},
   "outputs": [],
   "source": [
    "import math\n",
    "import cv2"
   ]
  },
  {
   "cell_type": "markdown",
   "metadata": {},
   "source": [
    "# KNOWN FIELDS"
   ]
  },
  {
   "cell_type": "markdown",
   "metadata": {},
   "source": [
    "\n",
    "## Dimensions of image( height and width)"
   ]
  },
  {
   "cell_type": "code",
   "execution_count": 10,
   "metadata": {},
   "outputs": [
    {
     "data": {
      "text/plain": [
       "(4608, 2592, 3)"
      ]
     },
     "execution_count": 10,
     "metadata": {},
     "output_type": "execute_result"
    }
   ],
   "source": [
    "file='img (2).jpeg'\n",
    "img=cv2.imread('data\\\\'+file)\n",
    "img.shape"
   ]
  },
  {
   "cell_type": "code",
   "execution_count": 12,
   "metadata": {},
   "outputs": [
    {
     "name": "stdout",
     "output_type": "stream",
     "text": [
      "2592 4608\n"
     ]
    }
   ],
   "source": [
    "W=img.shape[1]        #image width\n",
    "H=img.shape[0]        #image height\n",
    "print(W,H)"
   ]
  },
  {
   "cell_type": "markdown",
   "metadata": {},
   "source": [
    "## Camera position and pitch angle"
   ]
  },
  {
   "cell_type": "code",
   "execution_count": 13,
   "metadata": {},
   "outputs": [],
   "source": [
    "h=1.7            #height of camera\n",
    "theta=45           #pitch angel"
   ]
  },
  {
   "cell_type": "markdown",
   "metadata": {},
   "source": [
    "## Fields of View"
   ]
  },
  {
   "cell_type": "code",
   "execution_count": 14,
   "metadata": {},
   "outputs": [],
   "source": [
    "fh=31.3            #Horizontal field of view\n",
    "fv=62.3            #Vertical field of view"
   ]
  },
  {
   "cell_type": "markdown",
   "metadata": {},
   "source": [
    "## Position coordinates of point in image view"
   ]
  },
  {
   "cell_type": "code",
   "execution_count": 15,
   "metadata": {},
   "outputs": [],
   "source": [
    "i=158           #in pixels (measure from right side of image)\n",
    "j=3540  #pixels (measure from bottom of image)"
   ]
  },
  {
   "cell_type": "markdown",
   "metadata": {},
   "source": [
    "# Unknown fields"
   ]
  },
  {
   "cell_type": "markdown",
   "metadata": {},
   "source": [
    "## Calculate vertical angle"
   ]
  },
  {
   "cell_type": "code",
   "execution_count": 16,
   "metadata": {},
   "outputs": [
    {
     "name": "stdout",
     "output_type": "stream",
     "text": [
      "16.710677083333334\n"
     ]
    }
   ],
   "source": [
    "ang=fv/H*abs(H/2-j)\n",
    "print(ang)\n",
    "if(H/2>j):\n",
    "    psi=theta-ang\n",
    "else:\n",
    "    psi=theta+ang"
   ]
  },
  {
   "cell_type": "markdown",
   "metadata": {},
   "source": [
    "## Calculate angle of rotation"
   ]
  },
  {
   "cell_type": "code",
   "execution_count": 17,
   "metadata": {},
   "outputs": [],
   "source": [
    "phi=abs(i - W/2)*fh/W"
   ]
  },
  {
   "cell_type": "markdown",
   "metadata": {},
   "source": [
    "## Angles in degrees:"
   ]
  },
  {
   "cell_type": "code",
   "execution_count": 18,
   "metadata": {},
   "outputs": [
    {
     "name": "stdout",
     "output_type": "stream",
     "text": [
      "psi = 61.71067708333334\n",
      "phi = 13.742052469135803\n"
     ]
    }
   ],
   "source": [
    "print(\"psi =\",psi)\n",
    "print(\"phi =\",phi)"
   ]
  },
  {
   "cell_type": "markdown",
   "metadata": {},
   "source": [
    "## Convert angles to radians"
   ]
  },
  {
   "cell_type": "code",
   "execution_count": 19,
   "metadata": {},
   "outputs": [
    {
     "name": "stdout",
     "output_type": "stream",
     "text": [
      "psi = 1.0770549603385418\n",
      "phi = 0.23984416435956793\n"
     ]
    }
   ],
   "source": [
    "psi=psi*0.0174533\n",
    "phi=phi*0.0174533\n",
    "print(\"psi =\",psi)\n",
    "print(\"phi =\",phi)"
   ]
  },
  {
   "cell_type": "markdown",
   "metadata": {},
   "source": [
    "## Calculate Y and X"
   ]
  },
  {
   "cell_type": "code",
   "execution_count": 20,
   "metadata": {},
   "outputs": [],
   "source": [
    "Y=h*math.tan(psi)\n",
    "X=Y*math.tan(phi)"
   ]
  },
  {
   "cell_type": "code",
   "execution_count": 21,
   "metadata": {},
   "outputs": [
    {
     "name": "stdout",
     "output_type": "stream",
     "text": [
      "Y= 3.158656090919475\n",
      "X= 0.7724542143870693\n"
     ]
    }
   ],
   "source": [
    "print(\"Y=\",Y)\n",
    "print(\"X=\",X)"
   ]
  },
  {
   "cell_type": "markdown",
   "metadata": {},
   "source": [
    "## Calculate absolute depth of field"
   ]
  },
  {
   "cell_type": "code",
   "execution_count": 22,
   "metadata": {},
   "outputs": [
    {
     "name": "stdout",
     "output_type": "stream",
     "text": [
      "Z= 3.6693042683902686\n"
     ]
    }
   ],
   "source": [
    "Z=(h*h + Y*Y + X*X)**0.5\n",
    "print(\"Z=\",Z)"
   ]
  },
  {
   "cell_type": "markdown",
   "metadata": {},
   "source": [
    "# To calculate for any camera :"
   ]
  },
  {
   "cell_type": "code",
   "execution_count": 23,
   "metadata": {},
   "outputs": [],
   "source": [
    "def compute(W,H,h,theta,fh,fv,i,j):\n",
    "    ang=fv/H*abs(H/2-j)\n",
    "    if(H/2>j):\n",
    "        psi=theta-ang\n",
    "    else:\n",
    "        psi=theta+ang\n",
    "    phi=abs(i - W/2)*fh/W\n",
    "    psi=psi*0.0174533\n",
    "    phi=phi*0.0174533\n",
    "    Y=h*math.tan(psi)\n",
    "    X=Y*math.tan(phi)\n",
    "    Z=(h*h + Y*Y + X*X)**0.5\n",
    "    return X,Y,Z"
   ]
  },
  {
   "cell_type": "code",
   "execution_count": 31,
   "metadata": {},
   "outputs": [
    {
     "name": "stdout",
     "output_type": "stream",
     "text": [
      "Enter pathimg (2).jpeg\n",
      "Enter Camera position and pitch angle 1.7 45\n",
      "[1.7, 45.0]\n",
      "Enter horizontal and vertical field of view31.3 62.3\n",
      "Enter position coordinates of point in image158 3540\n"
     ]
    },
    {
     "data": {
      "text/plain": [
       "(0.7724542143870693, 3.158656090919475, 3.6693042683902686)"
      ]
     },
     "execution_count": 31,
     "metadata": {},
     "output_type": "execute_result"
    }
   ],
   "source": [
    "path = input(\"Enter path\")\n",
    "img=cv2.imread('data\\\\'+path)\n",
    "W=img.shape[1]\n",
    "H=img.shape[0]\n",
    "camspec=[float(i) for i in input(\"Enter Camera position and pitch angle \").split()]\n",
    "print(camspec)\n",
    "h,theta=camspec\n",
    "fov=[float(i) for i in input(\"Enter horizontal and vertical field of view\").split()]\n",
    "fh,fv=fov\n",
    "pos=[float(i) for i in input(\"Enter position coordinates of point in image\").split()]\n",
    "i,j=pos\n",
    "compute(W,H,h,theta,fh,fv,i,j)"
   ]
  },
  {
   "cell_type": "markdown",
   "metadata": {},
   "source": [
    "## Calculate height of object"
   ]
  },
  {
   "cell_type": "code",
   "execution_count": null,
   "metadata": {},
   "outputs": [],
   "source": [
    "def height(Y2,Y1,h):\n",
    "    Height= h*(Y2-Y1)/Y2\n",
    "    return Height"
   ]
  },
  {
   "cell_type": "code",
   "execution_count": null,
   "metadata": {},
   "outputs": [],
   "source": [
    "dim =[float(i) for i in input(\"Enter Width and height of image\").split()]\n",
    "W,H=dim\n",
    "camspec=[float(i) for i in input(\"Enter Camera position and pitch angle \").split()]\n",
    "h,theta=campspec\n",
    "fov=[float(i) for i in input(\"Enter horizontal and vertical field of view\").split()]\n",
    "fh,fv=fov\n",
    "pos=[float(i) for i in input(\"Enter position coordinates of top of object in image\").split()]\n",
    "i1,j1=pos\n",
    "pos=[float(i) for i in input(\"Enter position coordinates of bottom of object in image\").split()]\n",
    "i2,j2=pos\n",
    "X1,Y1,Z1=compute(W,H,h,theta,fh,fv,i1,j1)\n",
    "X2,Y2,Z2=compute(W,H,h,theta,fh,fv,i2,j2)\n",
    "height(Y2,Y1,h)"
   ]
  },
  {
   "cell_type": "code",
   "execution_count": 207,
   "metadata": {},
   "outputs": [
    {
     "data": {
      "text/plain": [
       "1.7910714285714284"
      ]
     },
     "execution_count": 207,
     "metadata": {},
     "output_type": "execute_result"
    }
   ],
   "source": [
    "height(-84,4.5,1.7)"
   ]
  },
  {
   "cell_type": "code",
   "execution_count": null,
   "metadata": {},
   "outputs": [],
   "source": []
  }
 ],
 "metadata": {
  "kernelspec": {
   "display_name": "Python 3",
   "language": "python",
   "name": "python3"
  },
  "language_info": {
   "codemirror_mode": {
    "name": "ipython",
    "version": 3
   },
   "file_extension": ".py",
   "mimetype": "text/x-python",
   "name": "python",
   "nbconvert_exporter": "python",
   "pygments_lexer": "ipython3",
   "version": "3.7.3"
  }
 },
 "nbformat": 4,
 "nbformat_minor": 2
}
